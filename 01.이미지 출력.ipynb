{
 "cells": [
  {
   "cell_type": "code",
   "execution_count": 1,
   "metadata": {},
   "outputs": [
    {
     "name": "stdout",
     "output_type": "stream",
     "text": [
      "Collecting opencv-python\n",
      "  Obtaining dependency information for opencv-python from https://files.pythonhosted.org/packages/c7/ec/9dabb6a9abfdebb3c45b0cc52dec901caafef2b2c7e7d6a839ed86d81e91/opencv_python-4.9.0.80-cp37-abi3-win_amd64.whl.metadata\n",
      "  Downloading opencv_python-4.9.0.80-cp37-abi3-win_amd64.whl.metadata (20 kB)\n",
      "Requirement already satisfied: numpy>=1.21.2 in c:\\users\\tpdnr\\anaconda3\\lib\\site-packages (from opencv-python) (1.24.3)\n",
      "Downloading opencv_python-4.9.0.80-cp37-abi3-win_amd64.whl (38.6 MB)\n",
      "   ---------------------------------------- 0.0/38.6 MB ? eta -:--:--\n",
      "   ---------------------------------------- 0.1/38.6 MB 3.6 MB/s eta 0:00:11\n",
      "   - -------------------------------------- 1.0/38.6 MB 12.3 MB/s eta 0:00:04\n",
      "   -- ------------------------------------- 2.7/38.6 MB 21.3 MB/s eta 0:00:02\n",
      "   ----- ---------------------------------- 5.1/38.6 MB 29.8 MB/s eta 0:00:02\n",
      "   ------- -------------------------------- 7.6/38.6 MB 34.5 MB/s eta 0:00:01\n",
      "   ---------- ----------------------------- 9.8/38.6 MB 36.7 MB/s eta 0:00:01\n",
      "   ------------ --------------------------- 11.8/38.6 MB 46.9 MB/s eta 0:00:01\n",
      "   -------------- ------------------------- 14.2/38.6 MB 50.4 MB/s eta 0:00:01\n",
      "   ----------------- ---------------------- 16.9/38.6 MB 50.4 MB/s eta 0:00:01\n",
      "   -------------------- ------------------- 19.7/38.6 MB 54.7 MB/s eta 0:00:01\n",
      "   ----------------------- ---------------- 22.7/38.6 MB 59.5 MB/s eta 0:00:01\n",
      "   -------------------------- ------------- 25.6/38.6 MB 59.5 MB/s eta 0:00:01\n",
      "   ----------------------------- ---------- 28.5/38.6 MB 65.2 MB/s eta 0:00:01\n",
      "   -------------------------------- ------- 31.6/38.6 MB 65.2 MB/s eta 0:00:01\n",
      "   ----------------------------------- ---- 34.5/38.6 MB 65.6 MB/s eta 0:00:01\n",
      "   -------------------------------------- - 37.3/38.6 MB 65.6 MB/s eta 0:00:01\n",
      "   ---------------------------------------  38.6/38.6 MB 65.6 MB/s eta 0:00:01\n",
      "   ---------------------------------------- 38.6/38.6 MB 43.7 MB/s eta 0:00:00\n",
      "Installing collected packages: opencv-python\n",
      "Successfully installed opencv-python-4.9.0.80\n",
      "Note: you may need to restart the kernel to use updated packages.\n"
     ]
    }
   ],
   "source": [
    "pip install opencv-python"
   ]
  }
 ],
 "metadata": {
  "kernelspec": {
   "display_name": "base",
   "language": "python",
   "name": "python3"
  },
  "language_info": {
   "codemirror_mode": {
    "name": "ipython",
    "version": 3
   },
   "file_extension": ".py",
   "mimetype": "text/x-python",
   "name": "python",
   "nbconvert_exporter": "python",
   "pygments_lexer": "ipython3",
   "version": "3.11.5"
  }
 },
 "nbformat": 4,
 "nbformat_minor": 2
}
